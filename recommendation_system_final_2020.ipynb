{
 "cells": [
  {
   "cell_type": "code",
   "execution_count": 1,
   "metadata": {},
   "outputs": [],
   "source": [
    "import pandas as pd"
   ]
  },
  {
   "cell_type": "code",
   "execution_count": 3,
   "metadata": {},
   "outputs": [],
   "source": [
    "import pickle"
   ]
  },
  {
   "cell_type": "code",
   "execution_count": 6,
   "metadata": {},
   "outputs": [
    {
     "data": {
      "text/html": [
       "<style>.container { width:100% !important; }</style>"
      ],
      "text/plain": [
       "<IPython.core.display.HTML object>"
      ]
     },
     "metadata": {},
     "output_type": "display_data"
    }
   ],
   "source": [
    "from IPython.core.display import display, HTML\n",
    "display(HTML(\"<style>.container { width:100% !important; }</style>\"))"
   ]
  },
  {
   "cell_type": "code",
   "execution_count": 44,
   "metadata": {},
   "outputs": [],
   "source": [
    "import numpy as np\n",
    "import pandas as pd\n",
    "import matplotlib.pyplot as plt\n",
    "import seaborn as sns\n",
    "from collections import Counter\n",
    "import re\n",
    "import random\n",
    "from sklearn.metrics.pairwise import cosine_similarity\n",
    "from sklearn.feature_extraction.text import CountVectorizer\n",
    "from sklearn.feature_extraction.text import TfidfVectorizer\n",
    "from sklearn.decomposition import LatentDirichletAllocation\n",
    "from nltk.corpus import stopwords \n",
    "from nltk.tokenize import word_tokenize "
   ]
  },
  {
   "cell_type": "code",
   "execution_count": 150,
   "metadata": {},
   "outputs": [],
   "source": [
    "from copy import deepcopy"
   ]
  },
  {
   "cell_type": "code",
   "execution_count": 64,
   "metadata": {},
   "outputs": [
    {
     "name": "stderr",
     "output_type": "stream",
     "text": [
      "[nltk_data] Downloading package punkt to /Users/johnrick/nltk_data...\n",
      "[nltk_data]   Package punkt is already up-to-date!\n"
     ]
    },
    {
     "data": {
      "text/plain": [
       "True"
      ]
     },
     "execution_count": 64,
     "metadata": {},
     "output_type": "execute_result"
    }
   ],
   "source": [
    "import nltk\n",
    "nltk.download('punkt')"
   ]
  },
  {
   "cell_type": "markdown",
   "metadata": {},
   "source": [
    "# Clean"
   ]
  },
  {
   "cell_type": "code",
   "execution_count": 46,
   "metadata": {},
   "outputs": [],
   "source": [
    "df = pd.read_csv('top_5_comments_cleaned.csv')"
   ]
  },
  {
   "cell_type": "code",
   "execution_count": 51,
   "metadata": {},
   "outputs": [],
   "source": [
    "df.drop(columns='Unnamed: 0', inplace=True)"
   ]
  },
  {
   "cell_type": "code",
   "execution_count": 54,
   "metadata": {},
   "outputs": [],
   "source": [
    "# split comments and get rid of details (name, comment number, location, and time)\n",
    "commentdf1= []\n",
    "for i,row in df['comments'].str.split('\\n', expand=True).iterrows():\n",
    "    comments = ''\n",
    "    try:\n",
    "        if i != None:\n",
    "            for j in row:\n",
    "                if j != None:\n",
    "                    if len(j.split()) >=10:\n",
    "                        comments += j\n",
    "    except:\n",
    "        comments += 'missing comments'\n",
    "    commentdf1.append(comments)"
   ]
  },
  {
   "cell_type": "code",
   "execution_count": 56,
   "metadata": {},
   "outputs": [],
   "source": [
    "#create a column with the list of 10 last comments\n",
    "df['comments_all'] = commentdf1"
   ]
  },
  {
   "cell_type": "code",
   "execution_count": 87,
   "metadata": {},
   "outputs": [],
   "source": [
    "# get rid of all punctuation marks\n",
    "df['comments_test'] = df['comments_all'].str.replace(r'[^\\w\\s]+', ' ')"
   ]
  },
  {
   "cell_type": "code",
   "execution_count": 88,
   "metadata": {},
   "outputs": [],
   "source": [
    "# make all words lowercase\n",
    "comments_real2 = []\n",
    "for i in df['comments_test']:\n",
    "    comments_real2.append(i.lower())"
   ]
  },
  {
   "cell_type": "code",
   "execution_count": 89,
   "metadata": {},
   "outputs": [],
   "source": [
    "df['comments_test'] = comments_real2 "
   ]
  },
  {
   "cell_type": "code",
   "execution_count": null,
   "metadata": {},
   "outputs": [],
   "source": []
  },
  {
   "cell_type": "code",
   "execution_count": 45,
   "metadata": {},
   "outputs": [],
   "source": [
    "# stop words are common words that don't add much to details\n",
    "stop_words =set(stopwords.words('english'))"
   ]
  },
  {
   "cell_type": "code",
   "execution_count": 101,
   "metadata": {},
   "outputs": [
    {
     "data": {
      "text/plain": [
       "179"
      ]
     },
     "execution_count": 101,
     "metadata": {},
     "output_type": "execute_result"
    }
   ],
   "source": [
    "len(stop_words)"
   ]
  },
  {
   "cell_type": "code",
   "execution_count": 114,
   "metadata": {},
   "outputs": [
    {
     "data": {
      "text/plain": [
       "set"
      ]
     },
     "execution_count": 114,
     "metadata": {},
     "output_type": "execute_result"
    }
   ],
   "source": [
    "type(stop_words)"
   ]
  },
  {
   "cell_type": "code",
   "execution_count": 115,
   "metadata": {},
   "outputs": [],
   "source": [
    "add_stop_words = []"
   ]
  },
  {
   "cell_type": "code",
   "execution_count": 116,
   "metadata": {},
   "outputs": [],
   "source": [
    "for i in list(stop_words):\n",
    "    if \"'\" in i:\n",
    "        add_stop_words.append(i.split(\"'\")[0])\n",
    "        add_stop_words.append(i.split(\"'\")[1])"
   ]
  },
  {
   "cell_type": "code",
   "execution_count": 120,
   "metadata": {},
   "outputs": [],
   "source": [
    "add_stop_words = set(add_stop_words)"
   ]
  },
  {
   "cell_type": "code",
   "execution_count": 124,
   "metadata": {},
   "outputs": [
    {
     "data": {
      "text/plain": [
       "179"
      ]
     },
     "execution_count": 124,
     "metadata": {},
     "output_type": "execute_result"
    }
   ],
   "source": [
    "len(stop_words)"
   ]
  },
  {
   "cell_type": "code",
   "execution_count": 122,
   "metadata": {},
   "outputs": [
    {
     "data": {
      "text/plain": [
       "179"
      ]
     },
     "execution_count": 122,
     "metadata": {},
     "output_type": "execute_result"
    }
   ],
   "source": [
    "len(stop_words | add_stop_words)"
   ]
  },
  {
   "cell_type": "code",
   "execution_count": 126,
   "metadata": {},
   "outputs": [
    {
     "data": {
      "text/plain": [
       "29"
      ]
     },
     "execution_count": 126,
     "metadata": {},
     "output_type": "execute_result"
    }
   ],
   "source": [
    "len(add_stop_words)"
   ]
  },
  {
   "cell_type": "code",
   "execution_count": 127,
   "metadata": {},
   "outputs": [],
   "source": [
    "stop_words.update(add_stop_words)"
   ]
  },
  {
   "cell_type": "code",
   "execution_count": 132,
   "metadata": {},
   "outputs": [],
   "source": [
    "add_stop_words = list(add_stop_words)"
   ]
  },
  {
   "cell_type": "code",
   "execution_count": 136,
   "metadata": {},
   "outputs": [],
   "source": [
    "stop_words2 = set(add_stop_words+list(stop_words))"
   ]
  },
  {
   "cell_type": "markdown",
   "metadata": {},
   "source": [
    "## Eliminate Stop Words"
   ]
  },
  {
   "cell_type": "code",
   "execution_count": null,
   "metadata": {},
   "outputs": [],
   "source": [
    "stop_words2"
   ]
  },
  {
   "cell_type": "code",
   "execution_count": 141,
   "metadata": {},
   "outputs": [],
   "source": [
    "# remove stop words from comments\n",
    "\n",
    "df['comments_test'] = df['comments_test'].apply(lambda x: ' '.join([word for word in x.split() if word not in (stop_words2)]))\n",
    "                           "
   ]
  },
  {
   "cell_type": "code",
   "execution_count": 142,
   "metadata": {},
   "outputs": [
    {
     "data": {
      "text/html": [
       "<div>\n",
       "<style scoped>\n",
       "    .dataframe tbody tr th:only-of-type {\n",
       "        vertical-align: middle;\n",
       "    }\n",
       "\n",
       "    .dataframe tbody tr th {\n",
       "        vertical-align: top;\n",
       "    }\n",
       "\n",
       "    .dataframe thead th {\n",
       "        text-align: right;\n",
       "    }\n",
       "</style>\n",
       "<table border=\"1\" class=\"dataframe\">\n",
       "  <thead>\n",
       "    <tr style=\"text-align: right;\">\n",
       "      <th></th>\n",
       "      <th>about</th>\n",
       "      <th>address</th>\n",
       "      <th>comments</th>\n",
       "      <th>name</th>\n",
       "      <th>no_things_to_do</th>\n",
       "      <th>num_reviews</th>\n",
       "      <th>sights_landmarks</th>\n",
       "      <th>summary_overview</th>\n",
       "      <th>comments_all</th>\n",
       "      <th>comments_test</th>\n",
       "    </tr>\n",
       "  </thead>\n",
       "  <tbody>\n",
       "    <tr>\n",
       "      <th>0</th>\n",
       "      <td>About\\nThrough commemoration, exhibitions and ...</td>\n",
       "      <td>180 Greenwich St, World Trade Center, New York...</td>\n",
       "      <td>1 - 10 of 61,964 reviews\\nexiledsuburban\\nOtta...</td>\n",
       "      <td>The National 9/11 Memorial &amp; Museum</td>\n",
       "      <td>#2 of 1,225 things to do in New York City</td>\n",
       "      <td>93,212 reviews</td>\n",
       "      <td>Sights &amp; Landmarks, Museums, More</td>\n",
       "      <td>4.5</td>\n",
       "      <td>I recently visited the 9/11 Memorial and Museu...</td>\n",
       "      <td>recently visited 9 11 memorial museum second t...</td>\n",
       "    </tr>\n",
       "    <tr>\n",
       "      <th>1</th>\n",
       "      <td>About\\nAt New York City's most visited museum ...</td>\n",
       "      <td>1000 5th Ave, New York City, NY 10028-0198</td>\n",
       "      <td>1 - 10 of 31,397 reviews\\nGarethKZN\\nCape Town...</td>\n",
       "      <td>The Metropolitan Museum of Art</td>\n",
       "      <td>#4 of 1,225 things to do in New York City</td>\n",
       "      <td>53,995 reviews</td>\n",
       "      <td>Sights &amp; Landmarks, Museums, More</td>\n",
       "      <td>5.0</td>\n",
       "      <td>You can get lost in this building, and even wi...</td>\n",
       "      <td>get lost building even good map probably disco...</td>\n",
       "    </tr>\n",
       "    <tr>\n",
       "      <th>2</th>\n",
       "      <td>About\\nFor more than 150 years, visitors have ...</td>\n",
       "      <td>59th to 110th Street, Manhattan Borough, from ...</td>\n",
       "      <td>1 - 10 of 73,814 reviews\\nnehar897\\n112\\nRevie...</td>\n",
       "      <td>Central Park</td>\n",
       "      <td>#3 of 1,225 things to do in New York City</td>\n",
       "      <td>130,863 reviews</td>\n",
       "      <td>Features Animals</td>\n",
       "      <td>4.5</td>\n",
       "      <td>It's the most famous park in the city for a re...</td>\n",
       "      <td>famous park city reasonit impossible visit pla...</td>\n",
       "    </tr>\n",
       "    <tr>\n",
       "      <th>3</th>\n",
       "      <td>About\\nThe world-famous Empire State Building ...</td>\n",
       "      <td>20 West 34th Street, New York City, NY 10118-0114</td>\n",
       "      <td>1 - 10 of 57,837 reviews\\nAnto-Maher39\\n5\\nRev...</td>\n",
       "      <td>Empire State Building</td>\n",
       "      <td>#13 of 1,225 things to do in New York City</td>\n",
       "      <td>87,837 reviews</td>\n",
       "      <td>Sights &amp; Landmarks, Points of Interest &amp; Landm...</td>\n",
       "      <td>4.5</td>\n",
       "      <td>Review of: Empire State Building Tickets - Obs...</td>\n",
       "      <td>review empire state building tickets observato...</td>\n",
       "    </tr>\n",
       "    <tr>\n",
       "      <th>4</th>\n",
       "      <td>About\\nTop of the Rock Observation Deck, the n...</td>\n",
       "      <td>30 Rockfeller Plaza, Enter on West 50th Street...</td>\n",
       "      <td>1 - 10 of 48,183 reviews\\njewellerylover\\nWarr...</td>\n",
       "      <td>Top of the Rock</td>\n",
       "      <td>#7 of 1,225 things to do in New York City</td>\n",
       "      <td>77,744 reviews</td>\n",
       "      <td>Sights &amp; Landmarks, Lookouts, Observation Deck...</td>\n",
       "      <td>4.5</td>\n",
       "      <td>We went on a clear day and the views were amaz...</td>\n",
       "      <td>went clear day views amazing able use chart id...</td>\n",
       "    </tr>\n",
       "  </tbody>\n",
       "</table>\n",
       "</div>"
      ],
      "text/plain": [
       "                                               about  \\\n",
       "0  About\\nThrough commemoration, exhibitions and ...   \n",
       "1  About\\nAt New York City's most visited museum ...   \n",
       "2  About\\nFor more than 150 years, visitors have ...   \n",
       "3  About\\nThe world-famous Empire State Building ...   \n",
       "4  About\\nTop of the Rock Observation Deck, the n...   \n",
       "\n",
       "                                             address  \\\n",
       "0  180 Greenwich St, World Trade Center, New York...   \n",
       "1         1000 5th Ave, New York City, NY 10028-0198   \n",
       "2  59th to 110th Street, Manhattan Borough, from ...   \n",
       "3  20 West 34th Street, New York City, NY 10118-0114   \n",
       "4  30 Rockfeller Plaza, Enter on West 50th Street...   \n",
       "\n",
       "                                            comments  \\\n",
       "0  1 - 10 of 61,964 reviews\\nexiledsuburban\\nOtta...   \n",
       "1  1 - 10 of 31,397 reviews\\nGarethKZN\\nCape Town...   \n",
       "2  1 - 10 of 73,814 reviews\\nnehar897\\n112\\nRevie...   \n",
       "3  1 - 10 of 57,837 reviews\\nAnto-Maher39\\n5\\nRev...   \n",
       "4  1 - 10 of 48,183 reviews\\njewellerylover\\nWarr...   \n",
       "\n",
       "                                  name  \\\n",
       "0  The National 9/11 Memorial & Museum   \n",
       "1       The Metropolitan Museum of Art   \n",
       "2                         Central Park   \n",
       "3                Empire State Building   \n",
       "4                      Top of the Rock   \n",
       "\n",
       "                              no_things_to_do      num_reviews  \\\n",
       "0   #2 of 1,225 things to do in New York City   93,212 reviews   \n",
       "1   #4 of 1,225 things to do in New York City   53,995 reviews   \n",
       "2   #3 of 1,225 things to do in New York City  130,863 reviews   \n",
       "3  #13 of 1,225 things to do in New York City   87,837 reviews   \n",
       "4   #7 of 1,225 things to do in New York City   77,744 reviews   \n",
       "\n",
       "                                    sights_landmarks  summary_overview  \\\n",
       "0                  Sights & Landmarks, Museums, More               4.5   \n",
       "1                  Sights & Landmarks, Museums, More               5.0   \n",
       "2                                   Features Animals               4.5   \n",
       "3  Sights & Landmarks, Points of Interest & Landm...               4.5   \n",
       "4  Sights & Landmarks, Lookouts, Observation Deck...               4.5   \n",
       "\n",
       "                                        comments_all  \\\n",
       "0  I recently visited the 9/11 Memorial and Museu...   \n",
       "1  You can get lost in this building, and even wi...   \n",
       "2  It's the most famous park in the city for a re...   \n",
       "3  Review of: Empire State Building Tickets - Obs...   \n",
       "4  We went on a clear day and the views were amaz...   \n",
       "\n",
       "                                       comments_test  \n",
       "0  recently visited 9 11 memorial museum second t...  \n",
       "1  get lost building even good map probably disco...  \n",
       "2  famous park city reasonit impossible visit pla...  \n",
       "3  review empire state building tickets observato...  \n",
       "4  went clear day views amazing able use chart id...  "
      ]
     },
     "execution_count": 142,
     "metadata": {},
     "output_type": "execute_result"
    }
   ],
   "source": [
    "df.head()"
   ]
  },
  {
   "cell_type": "markdown",
   "metadata": {},
   "source": [
    "## Cosine Similarity"
   ]
  },
  {
   "cell_type": "code",
   "execution_count": 144,
   "metadata": {},
   "outputs": [],
   "source": [
    "# set name to the index\n",
    "df.set_index('name', inplace=True)"
   ]
  },
  {
   "cell_type": "code",
   "execution_count": 145,
   "metadata": {},
   "outputs": [],
   "source": [
    "# calculate cosine similarity between documents - we use tfidf\n",
    "tf = TfidfVectorizer(analyzer='word', ngram_range=(1, 3), min_df=0, stop_words='english')"
   ]
  },
  {
   "cell_type": "code",
   "execution_count": 147,
   "metadata": {},
   "outputs": [],
   "source": [
    "tfidf_matrix = tf.fit_transform(df['comments_test'])"
   ]
  },
  {
   "cell_type": "code",
   "execution_count": 148,
   "metadata": {},
   "outputs": [],
   "source": [
    "similarity_matrix = cosine_similarity(tfidf_matrix, tfidf_matrix)"
   ]
  },
  {
   "cell_type": "code",
   "execution_count": 149,
   "metadata": {},
   "outputs": [],
   "source": [
    "indices = pd.Series(df.index)"
   ]
  },
  {
   "cell_type": "code",
   "execution_count": 156,
   "metadata": {},
   "outputs": [],
   "source": [
    "df['location_nyc'] = df['address'].apply(lambda x: 1 if 'New York' in x else 0)"
   ]
  },
  {
   "cell_type": "markdown",
   "metadata": {},
   "source": [
    "## Recommendation System"
   ]
  },
  {
   "cell_type": "code",
   "execution_count": 214,
   "metadata": {},
   "outputs": [],
   "source": [
    "def recommendations_for_london(name, n=10, similarity_matrix = similarity_matrix, df=df):\n",
    "    \"\"\"\n",
    "    returns a list of activities that are similar to name\n",
    "    \n",
    "    name: The activity name (must match Tripadvisor name)\n",
    "    n: Highest number of activities to return\n",
    "    similarity_matrix: uses cosine similarity to find similar activities\n",
    "    df: dataframe that matches similarity matrix\n",
    "    \n",
    "    \"\"\"\n",
    "    \n",
    "    recommended_activities = []\n",
    "    \n",
    "    # getting the index of the activities that matches the name\n",
    "    idx = indices[indices == name].index[0]\n",
    "\n",
    "    # creating a Series with the similarity scores in descending order\n",
    "    score_series = pd.Series(similarity_matrix[idx]).sort_values(ascending = False)\n",
    "\n",
    "    # getting the indexes of the 10 most similar name except itself\n",
    "    top_20_indexes = list(score_series.iloc[1:300].index)\n",
    "    \n",
    "    temp = deepcopy(df)\n",
    "    results = []\n",
    "    for i in top_20_indexes:\n",
    "        if temp.iloc[i, :].location_nyc == 0:\n",
    "            results.append(i)\n",
    "    \n",
    "    for i in results:\n",
    "        recommended_activities.append(list(df.index)[i])\n",
    "    \n",
    "    if len(recommended_activities) > n:\n",
    "        return recommended_activities[:n]        \n",
    "        \n",
    "    return recommended_activities"
   ]
  },
  {
   "cell_type": "code",
   "execution_count": 217,
   "metadata": {},
   "outputs": [
    {
     "data": {
      "text/plain": [
       "['Garden Museum',\n",
       " 'Imperial War Museums',\n",
       " 'Museum of London',\n",
       " 'Fashion and Textile Museum',\n",
       " 'The Cinema Museum',\n",
       " 'Natural History Museum',\n",
       " 'Royal Air Force Museum London',\n",
       " 'National Maritime Museum',\n",
       " 'The Household Cavalry Museum',\n",
       " 'The British Museum',\n",
       " 'The Who Shop',\n",
       " 'Science Museum',\n",
       " 'The Guards Museum',\n",
       " 'Museum of London Docklands',\n",
       " 'Gunnersbury Park & Museum']"
      ]
     },
     "execution_count": 217,
     "metadata": {},
     "output_type": "execute_result"
    }
   ],
   "source": [
    "recommendations_for_london('The National 9/11 Memorial & Museum', 15)"
   ]
  },
  {
   "cell_type": "code",
   "execution_count": 211,
   "metadata": {},
   "outputs": [],
   "source": [
    "def recommendations_for_nyc(name, n = 10, similarity_matrix = similarity_matrix, df=df):\n",
    "    \"\"\"\n",
    "    returns a list of activities that are similar to name\n",
    "    \n",
    "    name: The activity name (must match Tripadvisor name)\n",
    "    n: Highest number of activities to return\n",
    "    similarity_matrix: uses cosine similarity to find similar activities\n",
    "    df: dataframe that matches similarity matrix\n",
    "    \n",
    "    \"\"\"\n",
    "    \n",
    "    recommended_activities = []\n",
    "    \n",
    "    # getting the index of the activities that matches the name\n",
    "    idx = indices[indices == name].index[0]\n",
    "\n",
    "    # creating a Series with the similarity scores in descending order\n",
    "    score_series = pd.Series(similarity_matrix[idx]).sort_values(ascending = False)\n",
    "\n",
    "    # getting the indexes of the 10 most similar name except itself\n",
    "    top_20_indexes = list(score_series.iloc[1:300].index)\n",
    "    \n",
    "    temp = deepcopy(df)\n",
    "    results = []\n",
    "    for i in top_20_indexes:\n",
    "        if temp.iloc[i, :].location_nyc == 1:\n",
    "            results.append(i)\n",
    "    \n",
    "    for i in results:\n",
    "        recommended_activities.append(list(df.index)[i])\n",
    "    \n",
    "    if len(recommended_activities) > n:\n",
    "        return recommended_activities[:n]    \n",
    "        \n",
    "    return recommended_activities"
   ]
  },
  {
   "cell_type": "code",
   "execution_count": 213,
   "metadata": {},
   "outputs": [
    {
     "data": {
      "text/plain": [
       "['New Museum of Contemporary Art',\n",
       " 'American Folk Art Museum',\n",
       " 'Museum of Arts and Design',\n",
       " 'Cooper Hewitt, Smithsonian Design Museum',\n",
       " 'Rubin Museum of Art',\n",
       " 'Skyscraper Museum',\n",
       " 'New York City Fire Museum',\n",
       " 'Solomon R. Guggenheim Museum',\n",
       " 'Ground Zero Museum Workshop',\n",
       " 'The Metropolitan Museum of Art',\n",
       " 'National Museum of the American Indian',\n",
       " 'Whitney Museum of American Art',\n",
       " 'African Burial Ground National Monument',\n",
       " 'The National 9/11 Memorial & Museum',\n",
       " 'South Street Seaport Museum']"
      ]
     },
     "execution_count": 213,
     "metadata": {},
     "output_type": "execute_result"
    }
   ],
   "source": [
    "recommendations_for_nyc('Garden Museum', 15)"
   ]
  },
  {
   "cell_type": "code",
   "execution_count": 184,
   "metadata": {},
   "outputs": [],
   "source": [
    "nyc_activities_list = df[df['location_nyc']==1].index.to_list()"
   ]
  },
  {
   "cell_type": "code",
   "execution_count": 181,
   "metadata": {},
   "outputs": [],
   "source": [
    "london_activities_list = df[df['location_nyc']==0].index.to_list()"
   ]
  },
  {
   "cell_type": "code",
   "execution_count": 187,
   "metadata": {},
   "outputs": [
    {
     "name": "stdout",
     "output_type": "stream",
     "text": [
      "The New York Mosque\n"
     ]
    }
   ],
   "source": [
    "print(random.choice(nyc_activities_list))"
   ]
  },
  {
   "cell_type": "code",
   "execution_count": null,
   "metadata": {},
   "outputs": [],
   "source": []
  },
  {
   "cell_type": "code",
   "execution_count": null,
   "metadata": {},
   "outputs": [],
   "source": []
  },
  {
   "cell_type": "code",
   "execution_count": null,
   "metadata": {},
   "outputs": [],
   "source": []
  }
 ],
 "metadata": {
  "kernelspec": {
   "display_name": "Python 3",
   "language": "python",
   "name": "python3"
  },
  "language_info": {
   "codemirror_mode": {
    "name": "ipython",
    "version": 3
   },
   "file_extension": ".py",
   "mimetype": "text/x-python",
   "name": "python",
   "nbconvert_exporter": "python",
   "pygments_lexer": "ipython3",
   "version": "3.8.5"
  }
 },
 "nbformat": 4,
 "nbformat_minor": 4
}
